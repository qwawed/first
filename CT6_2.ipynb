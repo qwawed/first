{
  "nbformat": 4,
  "nbformat_minor": 0,
  "metadata": {
    "colab": {
      "provenance": [],
      "authorship_tag": "ABX9TyMSz4LCEOO1rmHRYCSt2mpW",
      "include_colab_link": true
    },
    "kernelspec": {
      "name": "python3",
      "display_name": "Python 3"
    },
    "language_info": {
      "name": "python"
    }
  },
  "cells": [
    {
      "cell_type": "markdown",
      "metadata": {
        "id": "view-in-github",
        "colab_type": "text"
      },
      "source": [
        "<a href=\"https://colab.research.google.com/github/qwawed/first/blob/main/CT6_2.ipynb\" target=\"_parent\"><img src=\"https://colab.research.google.com/assets/colab-badge.svg\" alt=\"Open In Colab\"/></a>"
      ]
    },
    {
      "cell_type": "markdown",
      "source": [],
      "metadata": {
        "id": "akRWGpsJXazM"
      }
    },
    {
      "cell_type": "code",
      "execution_count": 21,
      "metadata": {
        "colab": {
          "base_uri": "https://localhost:8080/"
        },
        "id": "uKYEFhWUXNWb",
        "outputId": "9b9c8905-8d17-4635-a718-7149579a806e"
      },
      "outputs": [
        {
          "output_type": "stream",
          "name": "stdout",
          "text": [
            "grade의 값을 입력하시오.:1\n",
            "grade의 값을 입력하시오.:1\n",
            "grade의 값을 입력하시오.:1\n",
            "grade의 값을 입력하시오.:1\n",
            "grade의 값을 입력하시오.:1\n",
            "grade의 값을 입력하시오.:1\n",
            "grade의 값을 입력하시오.:1\n",
            "grade의 값을 입력하시오.:1\n",
            "grade의 값을 입력하시오.:1\n",
            "grade의 값을 입력하시오.:1\n",
            "합= 10 평균= 1.0\n"
          ]
        }
      ],
      "source": [
        "total = 0\n",
        "counter = 1\n",
        "while counter <= 10 :\n",
        "        grade = input(\"grade의 값을 입력하시오.:\")     # 사용자에게 grade를 정수형을 받아라\n",
        "        total = int(grade) + total                          # total변수에 grade의 합을 저장하라  \n",
        "        counter = counter + 1                               # counter을 10번 반복하라\n",
        "average = total / 10                                        # average변수에 total을 10을 나눈 평균값을 저장하라.\n",
        "print ('합=' ,total, '평균=',average)                       # 합과 변수 total, 평균과 변수 average 값을 화면에 출력하라."
      ]
    }
  ]
}